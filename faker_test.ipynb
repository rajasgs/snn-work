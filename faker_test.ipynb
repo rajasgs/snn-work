{
 "cells": [
  {
   "cell_type": "code",
   "execution_count": 2,
   "id": "8c63df75-9c79-4c5a-a920-5d4849c632c1",
   "metadata": {},
   "outputs": [
    {
     "data": {
      "text/plain": [
       "'\\nhttps://faker.readthedocs.io/en/master/\\n'"
      ]
     },
     "execution_count": 2,
     "metadata": {},
     "output_type": "execute_result"
    }
   ],
   "source": [
    "'''\n",
    "https://faker.readthedocs.io/en/master/\n",
    "'''"
   ]
  },
  {
   "cell_type": "code",
   "execution_count": 3,
   "id": "4a2a8702-add1-44bf-bcb4-0692a7c59138",
   "metadata": {
    "tags": []
   },
   "outputs": [],
   "source": [
    "from faker import Faker\n",
    "\n",
    "fake = Faker()"
   ]
  },
  {
   "cell_type": "code",
   "execution_count": 4,
   "id": "921fdd57-3cd2-4777-bbd4-4bd9a4eea563",
   "metadata": {
    "tags": []
   },
   "outputs": [
    {
     "data": {
      "text/plain": [
       "'Ronald Preston DVM'"
      ]
     },
     "execution_count": 4,
     "metadata": {},
     "output_type": "execute_result"
    }
   ],
   "source": [
    "fake.name()"
   ]
  },
  {
   "cell_type": "code",
   "execution_count": null,
   "id": "89c7d291-268f-4bf3-af59-22c2038e0941",
   "metadata": {},
   "outputs": [],
   "source": []
  },
  {
   "cell_type": "code",
   "execution_count": 7,
   "id": "96be1408-f02e-4ef5-b82e-963f33b7b0ed",
   "metadata": {
    "tags": []
   },
   "outputs": [
    {
     "name": "stdout",
     "output_type": "stream",
     "text": [
      "['Mustafa', 'Colin', 'Macarthur', 'Randolf', 'Lilia', 'Lyla', 'Che', 'Mettie', 'Ailene', 'Salena', 'Dejon', 'Chimere', 'Keara', 'Mellisa', 'Celena', 'Jennette', 'Aron', 'Porsha', 'Wilfred', 'Honora']\n"
     ]
    }
   ],
   "source": [
    "# https://stackoverflow.com/questions/55836752/i-need-to-generate-1000-unique-first-name-in-python\n",
    "\n",
    "from random import shuffle, seed\n",
    "from faker.providers.person.en import Provider\n",
    "\n",
    "first_names = list(set(Provider.first_names))\n",
    "\n",
    "seed(4321)\n",
    "shuffle(first_names)\n",
    "\n",
    "print(first_names[0:20])"
   ]
  },
  {
   "cell_type": "code",
   "execution_count": 36,
   "id": "6b1799eb-05d2-4d5a-9e4b-504f75858be7",
   "metadata": {
    "tags": []
   },
   "outputs": [],
   "source": [
    "def get_name(delim = \" \"):\n",
    "    \n",
    "    f_name = fake.first_name().upper()\n",
    "    l_name = fake.last_name().upper()\n",
    "    \n",
    "    return f_name + delim + l_name\n",
    "\n",
    "def get_address():\n",
    "    \n",
    "    return fake.address()\n",
    "\n",
    "def get_city():\n",
    "    \n",
    "    return fake.city()\n",
    "\n",
    "def get_state():\n",
    "    \n",
    "    return fake.state()\n",
    "\n",
    "def get_zip():\n",
    "    \n",
    "    return fake.postcode()\n",
    "\n",
    "def get_country():\n",
    "    \n",
    "    return fake.country()\n",
    "\n",
    "# https://faker.readthedocs.io/en/master/providers/faker.providers.address.html"
   ]
  },
  {
   "cell_type": "code",
   "execution_count": 37,
   "id": "67c5252b-d4ff-4188-bc0a-5f153fdd8179",
   "metadata": {
    "tags": []
   },
   "outputs": [
    {
     "data": {
      "text/plain": [
       "'86379'"
      ]
     },
     "execution_count": 37,
     "metadata": {},
     "output_type": "execute_result"
    }
   ],
   "source": [
    "get_zip()"
   ]
  },
  {
   "cell_type": "code",
   "execution_count": 38,
   "id": "9dddd4ee-d864-431f-9142-ba6a536e00ea",
   "metadata": {
    "tags": []
   },
   "outputs": [
    {
     "data": {
      "text/plain": [
       "'TIMOTHY,BAKER'"
      ]
     },
     "execution_count": 38,
     "metadata": {},
     "output_type": "execute_result"
    }
   ],
   "source": [
    "get_name(\",\")"
   ]
  },
  {
   "cell_type": "code",
   "execution_count": 39,
   "id": "32ab5458-1684-47be-bdfb-36a3c16083a3",
   "metadata": {
    "tags": []
   },
   "outputs": [
    {
     "data": {
      "text/plain": [
       "'\\nPending:\\n\\naddress_name_LEFT\\naddress_1_LEFT\\naddress_2_LEFT\\ncity_LEFT\\nstate_LEFT\\nZIP_LEFT\\nCountry_LEFT\\naddress_name_RIGHT\\naddress_1_RIGHT\\naddress_2_RIGHT\\ncity_RIGHT\\nstate_RIGHT\\nZIP_RIGHT\\nCountry\\nResult\\n'"
      ]
     },
     "execution_count": 39,
     "metadata": {},
     "output_type": "execute_result"
    }
   ],
   "source": [
    "'''\n",
    "Pending:\n",
    "\n",
    "address_name_LEFT\n",
    "address_1_LEFT\n",
    "address_2_LEFT\n",
    "city_LEFT\n",
    "state_LEFT\n",
    "ZIP_LEFT\n",
    "Country_LEFT\n",
    "address_name_RIGHT\n",
    "address_1_RIGHT\n",
    "address_2_RIGHT\n",
    "city_RIGHT\n",
    "state_RIGHT\n",
    "ZIP_RIGHT\n",
    "Country\n",
    "Result\n",
    "'''"
   ]
  },
  {
   "cell_type": "code",
   "execution_count": 42,
   "id": "a35ee3f5-b5f6-4a13-a14e-50c79d3e5599",
   "metadata": {
    "tags": []
   },
   "outputs": [
    {
     "name": "stdout",
     "output_type": "stream",
     "text": [
      "{'address_name_LEFT': 'DEANNA WOLFE', 'address_1_LEFT': 'PSC 6089, Box 9794\\nAPO AA 00990', 'address_2_LEFT': '', 'city_LEFT': 'Allenberg', 'state_LEFT': 'Florida', 'ZIP_LEFT': '37350', 'Country_LEFT': 'Luxembourg', 'address_name_RIGHT': 'DEANNA WOLFE', 'address_1_RIGHT': 'PSC 6089, Box 9794\\nAPO AA 00990', 'address_2_RIGHT': '', 'city_RIGHT': 'Allenberg', 'state_RIGHT': 'Florida', 'ZIP_RIGHT': '37350', 'Country': 'Luxembourg', 'Result': 1}\n",
      "{'address_name_LEFT': 'HALEY STANLEY', 'address_1_LEFT': '60221 Loretta Stream\\nEast David, VA 69074', 'address_2_LEFT': '', 'city_LEFT': 'Calvinview', 'state_LEFT': 'Ohio', 'ZIP_LEFT': '61324', 'Country_LEFT': 'Saudi Arabia', 'address_name_RIGHT': 'HALEY STANLEY', 'address_1_RIGHT': '60221 Loretta Stream\\nEast David, VA 69074', 'address_2_RIGHT': '', 'city_RIGHT': 'Calvinview', 'state_RIGHT': 'Ohio', 'ZIP_RIGHT': '61324', 'Country': 'Saudi Arabia', 'Result': 1}\n"
     ]
    }
   ],
   "source": [
    "for _item in range(2):\n",
    "    \n",
    "    _name = get_name()\n",
    "    _address = get_address()\n",
    "    _city = get_city()\n",
    "    _state = get_state()\n",
    "    _zip = get_zip()\n",
    "    _country = get_country()\n",
    "\n",
    "    row_dict = {\n",
    "        'address_name_LEFT' : _name,\n",
    "        'address_1_LEFT' : _address,\n",
    "        'address_2_LEFT' : '',\n",
    "        'city_LEFT' : _city,\n",
    "        'state_LEFT' : _state,\n",
    "        'ZIP_LEFT' : _zip,\n",
    "        'Country_LEFT' : _country,\n",
    "        \n",
    "        'address_name_RIGHT' : _name,\n",
    "        'address_1_RIGHT' : _address,\n",
    "        'address_2_RIGHT' : '',\n",
    "        'city_RIGHT' : _city,\n",
    "        'state_RIGHT' : _state,\n",
    "        'ZIP_RIGHT' : _zip,\n",
    "        'Country' : _country,\n",
    "        'Result' : 1,\n",
    "    }\n",
    "    \n",
    "    print(row_dict)"
   ]
  },
  {
   "cell_type": "code",
   "execution_count": null,
   "id": "4ee357c7-9fba-4742-9d48-b34310d72406",
   "metadata": {},
   "outputs": [],
   "source": []
  },
  {
   "cell_type": "code",
   "execution_count": null,
   "id": "b4f5e8b6-3b9f-4bba-bb49-5850d4932e87",
   "metadata": {},
   "outputs": [],
   "source": []
  }
 ],
 "metadata": {
  "kernelspec": {
   "display_name": "Python 3 (ipykernel)",
   "language": "python",
   "name": "python3"
  },
  "language_info": {
   "codemirror_mode": {
    "name": "ipython",
    "version": 3
   },
   "file_extension": ".py",
   "mimetype": "text/x-python",
   "name": "python",
   "nbconvert_exporter": "python",
   "pygments_lexer": "ipython3",
   "version": "3.7.16"
  }
 },
 "nbformat": 4,
 "nbformat_minor": 5
}
